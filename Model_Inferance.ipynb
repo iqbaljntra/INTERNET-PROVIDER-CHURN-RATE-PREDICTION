{
  "cells": [
    {
      "cell_type": "markdown",
      "metadata": {
        "id": "3Kp_-X0toOW3"
      },
      "source": [
        "# MODEL INFERANCE P2M1\n",
        "\n",
        "Name : Iqbal Janitra\n",
        "\n",
        "Batch : 003"
      ]
    },
    {
      "cell_type": "markdown",
      "metadata": {
        "id": "XgrgGLZ5oOW5"
      },
      "source": [
        "# IMPORT LIBRARIES"
      ]
    },
    {
      "cell_type": "code",
      "execution_count": 3,
      "metadata": {
        "id": "gBQTaHvHoOW6"
      },
      "outputs": [],
      "source": [
        "import pandas as pd\n",
        "import numpy as np \n",
        "import pickle\n",
        "import ast\n",
        "import joblib\n",
        "import keras"
      ]
    },
    {
      "cell_type": "markdown",
      "metadata": {
        "id": "bmVqXJmqoOW7"
      },
      "source": [
        "# LOAD MODEL"
      ]
    },
    {
      "cell_type": "code",
      "execution_count": 39,
      "metadata": {
        "colab": {
          "base_uri": "https://localhost:8080/"
        },
        "id": "ADB131f3oOW7",
        "outputId": "dfcc8dee-c675-48a1-9509-61779e0a1db7"
      },
      "outputs": [],
      "source": [
        "with open('preprocessor', 'rb') as file_1:\n",
        "  preprocessor= joblib.load(file_1)\n",
        "\n",
        "model = keras.models.load_model('bestmodel.h5')"
      ]
    },
    {
      "cell_type": "markdown",
      "metadata": {
        "id": "mVgMkpvroOW8"
      },
      "source": [
        "# MAKE RANDOM DATA"
      ]
    },
    {
      "cell_type": "code",
      "execution_count": 40,
      "metadata": {
        "id": "l1Yg94zxoOW9"
      },
      "outputs": [],
      "source": [
        "df = pd.read_csv('datainf2.csv')"
      ]
    },
    {
      "cell_type": "code",
      "execution_count": 41,
      "metadata": {
        "colab": {
          "base_uri": "https://localhost:8080/",
          "height": 695
        },
        "id": "xS7Z9qOeoOW9",
        "outputId": "ae7d0502-ae17-4484-8cc7-cbdb8b86e586"
      },
      "outputs": [
        {
          "data": {
            "text/html": [
              "<div>\n",
              "<style scoped>\n",
              "    .dataframe tbody tr th:only-of-type {\n",
              "        vertical-align: middle;\n",
              "    }\n",
              "\n",
              "    .dataframe tbody tr th {\n",
              "        vertical-align: top;\n",
              "    }\n",
              "\n",
              "    .dataframe thead th {\n",
              "        text-align: right;\n",
              "    }\n",
              "</style>\n",
              "<table border=\"1\" class=\"dataframe\">\n",
              "  <thead>\n",
              "    <tr style=\"text-align: right;\">\n",
              "      <th></th>\n",
              "      <th>points_in_wallet</th>\n",
              "      <th>avg_transaction_value</th>\n",
              "      <th>avg_frequency_login_days</th>\n",
              "      <th>avg_time_spent</th>\n",
              "      <th>membership_category</th>\n",
              "      <th>feedback</th>\n",
              "      <th>joined_through_referral</th>\n",
              "      <th>offer_application_preference</th>\n",
              "      <th>preferred_offer_types</th>\n",
              "    </tr>\n",
              "  </thead>\n",
              "  <tbody>\n",
              "    <tr>\n",
              "      <th>0</th>\n",
              "      <td>697.920000</td>\n",
              "      <td>20155.37</td>\n",
              "      <td>6.0</td>\n",
              "      <td>138.11</td>\n",
              "      <td>No Membership</td>\n",
              "      <td>Poor Product Quality</td>\n",
              "      <td>Yes</td>\n",
              "      <td>No</td>\n",
              "      <td>Credit/Debit Card Offers</td>\n",
              "    </tr>\n",
              "    <tr>\n",
              "      <th>1</th>\n",
              "      <td>604.750000</td>\n",
              "      <td>5481.10</td>\n",
              "      <td>0.0</td>\n",
              "      <td>100.93</td>\n",
              "      <td>Basic Membership</td>\n",
              "      <td>Too many ads</td>\n",
              "      <td>No</td>\n",
              "      <td>No</td>\n",
              "      <td>Credit/Debit Card Offers</td>\n",
              "    </tr>\n",
              "    <tr>\n",
              "      <th>2</th>\n",
              "      <td>772.250000</td>\n",
              "      <td>35501.24</td>\n",
              "      <td>23.0</td>\n",
              "      <td>402.17</td>\n",
              "      <td>Platinum Membership</td>\n",
              "      <td>Too many ads</td>\n",
              "      <td>Yes</td>\n",
              "      <td>No</td>\n",
              "      <td>Without Offers</td>\n",
              "    </tr>\n",
              "    <tr>\n",
              "      <th>3</th>\n",
              "      <td>771.980000</td>\n",
              "      <td>10329.81</td>\n",
              "      <td>3.0</td>\n",
              "      <td>44.92</td>\n",
              "      <td>Gold Membership</td>\n",
              "      <td>Products always in Stock</td>\n",
              "      <td>No</td>\n",
              "      <td>Yes</td>\n",
              "      <td>Without Offers</td>\n",
              "    </tr>\n",
              "    <tr>\n",
              "      <th>4</th>\n",
              "      <td>544.280000</td>\n",
              "      <td>45129.61</td>\n",
              "      <td>17.0</td>\n",
              "      <td>31.43</td>\n",
              "      <td>Basic Membership</td>\n",
              "      <td>Poor Product Quality</td>\n",
              "      <td>Yes</td>\n",
              "      <td>Yes</td>\n",
              "      <td>Without Offers</td>\n",
              "    </tr>\n",
              "    <tr>\n",
              "      <th>5</th>\n",
              "      <td>1212.203694</td>\n",
              "      <td>18078.36</td>\n",
              "      <td>15.0</td>\n",
              "      <td>32.08</td>\n",
              "      <td>Platinum Membership</td>\n",
              "      <td>Poor Customer Service</td>\n",
              "      <td>No</td>\n",
              "      <td>No</td>\n",
              "      <td>Without Offers</td>\n",
              "    </tr>\n",
              "    <tr>\n",
              "      <th>6</th>\n",
              "      <td>310.768677</td>\n",
              "      <td>30219.88</td>\n",
              "      <td>5.0</td>\n",
              "      <td>122.29</td>\n",
              "      <td>No Membership</td>\n",
              "      <td>Poor Customer Service</td>\n",
              "      <td>Yes</td>\n",
              "      <td>Yes</td>\n",
              "      <td>Without Offers</td>\n",
              "    </tr>\n",
              "    <tr>\n",
              "      <th>7</th>\n",
              "      <td>0.000000</td>\n",
              "      <td>36397.14</td>\n",
              "      <td>29.0</td>\n",
              "      <td>34.45</td>\n",
              "      <td>Gold Membership</td>\n",
              "      <td>Poor Website</td>\n",
              "      <td>No</td>\n",
              "      <td>No</td>\n",
              "      <td>Without Offers</td>\n",
              "    </tr>\n",
              "    <tr>\n",
              "      <th>8</th>\n",
              "      <td>0.000000</td>\n",
              "      <td>38663.72</td>\n",
              "      <td>29.0</td>\n",
              "      <td>694.23</td>\n",
              "      <td>Basic Membership</td>\n",
              "      <td>Too many ads</td>\n",
              "      <td>Yes</td>\n",
              "      <td>No</td>\n",
              "      <td>Gift Vouchers/Coupons</td>\n",
              "    </tr>\n",
              "    <tr>\n",
              "      <th>9</th>\n",
              "      <td>715.190000</td>\n",
              "      <td>20061.70</td>\n",
              "      <td>13.0</td>\n",
              "      <td>305.88</td>\n",
              "      <td>Gold Membership</td>\n",
              "      <td>Products always in Stock</td>\n",
              "      <td>No</td>\n",
              "      <td>No</td>\n",
              "      <td>Without Offers</td>\n",
              "    </tr>\n",
              "  </tbody>\n",
              "</table>\n",
              "</div>"
            ],
            "text/plain": [
              "   points_in_wallet  avg_transaction_value  avg_frequency_login_days  \\\n",
              "0        697.920000               20155.37                       6.0   \n",
              "1        604.750000                5481.10                       0.0   \n",
              "2        772.250000               35501.24                      23.0   \n",
              "3        771.980000               10329.81                       3.0   \n",
              "4        544.280000               45129.61                      17.0   \n",
              "5       1212.203694               18078.36                      15.0   \n",
              "6        310.768677               30219.88                       5.0   \n",
              "7          0.000000               36397.14                      29.0   \n",
              "8          0.000000               38663.72                      29.0   \n",
              "9        715.190000               20061.70                      13.0   \n",
              "\n",
              "   avg_time_spent  membership_category                  feedback  \\\n",
              "0          138.11        No Membership      Poor Product Quality   \n",
              "1          100.93     Basic Membership              Too many ads   \n",
              "2          402.17  Platinum Membership              Too many ads   \n",
              "3           44.92      Gold Membership  Products always in Stock   \n",
              "4           31.43     Basic Membership      Poor Product Quality   \n",
              "5           32.08  Platinum Membership     Poor Customer Service   \n",
              "6          122.29        No Membership     Poor Customer Service   \n",
              "7           34.45      Gold Membership              Poor Website   \n",
              "8          694.23     Basic Membership              Too many ads   \n",
              "9          305.88      Gold Membership  Products always in Stock   \n",
              "\n",
              "  joined_through_referral offer_application_preference  \\\n",
              "0                     Yes                           No   \n",
              "1                      No                           No   \n",
              "2                     Yes                           No   \n",
              "3                      No                          Yes   \n",
              "4                     Yes                          Yes   \n",
              "5                      No                           No   \n",
              "6                     Yes                          Yes   \n",
              "7                      No                           No   \n",
              "8                     Yes                           No   \n",
              "9                      No                           No   \n",
              "\n",
              "      preferred_offer_types  \n",
              "0  Credit/Debit Card Offers  \n",
              "1  Credit/Debit Card Offers  \n",
              "2            Without Offers  \n",
              "3            Without Offers  \n",
              "4            Without Offers  \n",
              "5            Without Offers  \n",
              "6            Without Offers  \n",
              "7            Without Offers  \n",
              "8     Gift Vouchers/Coupons  \n",
              "9            Without Offers  "
            ]
          },
          "execution_count": 41,
          "metadata": {},
          "output_type": "execute_result"
        }
      ],
      "source": [
        "df"
      ]
    },
    {
      "cell_type": "markdown",
      "metadata": {
        "id": "i1_mcwVnoOW-"
      },
      "source": [
        "# PREPROCESS DATA"
      ]
    },
    {
      "cell_type": "code",
      "execution_count": 42,
      "metadata": {},
      "outputs": [
        {
          "data": {
            "text/html": [
              "<div>\n",
              "<style scoped>\n",
              "    .dataframe tbody tr th:only-of-type {\n",
              "        vertical-align: middle;\n",
              "    }\n",
              "\n",
              "    .dataframe tbody tr th {\n",
              "        vertical-align: top;\n",
              "    }\n",
              "\n",
              "    .dataframe thead th {\n",
              "        text-align: right;\n",
              "    }\n",
              "</style>\n",
              "<table border=\"1\" class=\"dataframe\">\n",
              "  <thead>\n",
              "    <tr style=\"text-align: right;\">\n",
              "      <th></th>\n",
              "      <th>points_in_wallet</th>\n",
              "      <th>avg_transaction_value</th>\n",
              "      <th>avg_frequency_login_days</th>\n",
              "      <th>avg_time_spent</th>\n",
              "      <th>membership_category</th>\n",
              "      <th>feedback</th>\n",
              "      <th>joined_through_referral</th>\n",
              "      <th>offer_application_preference</th>\n",
              "      <th>preferred_offer_types</th>\n",
              "    </tr>\n",
              "  </thead>\n",
              "  <tbody>\n",
              "    <tr>\n",
              "      <th>0</th>\n",
              "      <td>697.920000</td>\n",
              "      <td>20155.37</td>\n",
              "      <td>6.0</td>\n",
              "      <td>138.11</td>\n",
              "      <td>No Membership</td>\n",
              "      <td>Poor Product Quality</td>\n",
              "      <td>Yes</td>\n",
              "      <td>No</td>\n",
              "      <td>Credit/Debit Card Offers</td>\n",
              "    </tr>\n",
              "    <tr>\n",
              "      <th>1</th>\n",
              "      <td>604.750000</td>\n",
              "      <td>5481.10</td>\n",
              "      <td>0.0</td>\n",
              "      <td>100.93</td>\n",
              "      <td>Basic Membership</td>\n",
              "      <td>Too many ads</td>\n",
              "      <td>No</td>\n",
              "      <td>No</td>\n",
              "      <td>Credit/Debit Card Offers</td>\n",
              "    </tr>\n",
              "    <tr>\n",
              "      <th>2</th>\n",
              "      <td>772.250000</td>\n",
              "      <td>35501.24</td>\n",
              "      <td>23.0</td>\n",
              "      <td>402.17</td>\n",
              "      <td>Platinum Membership</td>\n",
              "      <td>Too many ads</td>\n",
              "      <td>Yes</td>\n",
              "      <td>No</td>\n",
              "      <td>Without Offers</td>\n",
              "    </tr>\n",
              "    <tr>\n",
              "      <th>3</th>\n",
              "      <td>771.980000</td>\n",
              "      <td>10329.81</td>\n",
              "      <td>3.0</td>\n",
              "      <td>44.92</td>\n",
              "      <td>Gold Membership</td>\n",
              "      <td>Products always in Stock</td>\n",
              "      <td>No</td>\n",
              "      <td>Yes</td>\n",
              "      <td>Without Offers</td>\n",
              "    </tr>\n",
              "    <tr>\n",
              "      <th>4</th>\n",
              "      <td>544.280000</td>\n",
              "      <td>45129.61</td>\n",
              "      <td>17.0</td>\n",
              "      <td>31.43</td>\n",
              "      <td>Basic Membership</td>\n",
              "      <td>Poor Product Quality</td>\n",
              "      <td>Yes</td>\n",
              "      <td>Yes</td>\n",
              "      <td>Without Offers</td>\n",
              "    </tr>\n",
              "    <tr>\n",
              "      <th>5</th>\n",
              "      <td>1212.203694</td>\n",
              "      <td>18078.36</td>\n",
              "      <td>15.0</td>\n",
              "      <td>32.08</td>\n",
              "      <td>Platinum Membership</td>\n",
              "      <td>Poor Customer Service</td>\n",
              "      <td>No</td>\n",
              "      <td>No</td>\n",
              "      <td>Without Offers</td>\n",
              "    </tr>\n",
              "    <tr>\n",
              "      <th>6</th>\n",
              "      <td>310.768677</td>\n",
              "      <td>30219.88</td>\n",
              "      <td>5.0</td>\n",
              "      <td>122.29</td>\n",
              "      <td>No Membership</td>\n",
              "      <td>Poor Customer Service</td>\n",
              "      <td>Yes</td>\n",
              "      <td>Yes</td>\n",
              "      <td>Without Offers</td>\n",
              "    </tr>\n",
              "    <tr>\n",
              "      <th>7</th>\n",
              "      <td>0.000000</td>\n",
              "      <td>36397.14</td>\n",
              "      <td>29.0</td>\n",
              "      <td>34.45</td>\n",
              "      <td>Gold Membership</td>\n",
              "      <td>Poor Website</td>\n",
              "      <td>No</td>\n",
              "      <td>No</td>\n",
              "      <td>Without Offers</td>\n",
              "    </tr>\n",
              "    <tr>\n",
              "      <th>8</th>\n",
              "      <td>0.000000</td>\n",
              "      <td>38663.72</td>\n",
              "      <td>29.0</td>\n",
              "      <td>694.23</td>\n",
              "      <td>Basic Membership</td>\n",
              "      <td>Too many ads</td>\n",
              "      <td>Yes</td>\n",
              "      <td>No</td>\n",
              "      <td>Gift Vouchers/Coupons</td>\n",
              "    </tr>\n",
              "    <tr>\n",
              "      <th>9</th>\n",
              "      <td>715.190000</td>\n",
              "      <td>20061.70</td>\n",
              "      <td>13.0</td>\n",
              "      <td>305.88</td>\n",
              "      <td>Gold Membership</td>\n",
              "      <td>Products always in Stock</td>\n",
              "      <td>No</td>\n",
              "      <td>No</td>\n",
              "      <td>Without Offers</td>\n",
              "    </tr>\n",
              "  </tbody>\n",
              "</table>\n",
              "</div>"
            ],
            "text/plain": [
              "   points_in_wallet  avg_transaction_value  avg_frequency_login_days  \\\n",
              "0        697.920000               20155.37                       6.0   \n",
              "1        604.750000                5481.10                       0.0   \n",
              "2        772.250000               35501.24                      23.0   \n",
              "3        771.980000               10329.81                       3.0   \n",
              "4        544.280000               45129.61                      17.0   \n",
              "5       1212.203694               18078.36                      15.0   \n",
              "6        310.768677               30219.88                       5.0   \n",
              "7          0.000000               36397.14                      29.0   \n",
              "8          0.000000               38663.72                      29.0   \n",
              "9        715.190000               20061.70                      13.0   \n",
              "\n",
              "   avg_time_spent  membership_category                  feedback  \\\n",
              "0          138.11        No Membership      Poor Product Quality   \n",
              "1          100.93     Basic Membership              Too many ads   \n",
              "2          402.17  Platinum Membership              Too many ads   \n",
              "3           44.92      Gold Membership  Products always in Stock   \n",
              "4           31.43     Basic Membership      Poor Product Quality   \n",
              "5           32.08  Platinum Membership     Poor Customer Service   \n",
              "6          122.29        No Membership     Poor Customer Service   \n",
              "7           34.45      Gold Membership              Poor Website   \n",
              "8          694.23     Basic Membership              Too many ads   \n",
              "9          305.88      Gold Membership  Products always in Stock   \n",
              "\n",
              "  joined_through_referral offer_application_preference  \\\n",
              "0                     Yes                           No   \n",
              "1                      No                           No   \n",
              "2                     Yes                           No   \n",
              "3                      No                          Yes   \n",
              "4                     Yes                          Yes   \n",
              "5                      No                           No   \n",
              "6                     Yes                          Yes   \n",
              "7                      No                           No   \n",
              "8                     Yes                           No   \n",
              "9                      No                           No   \n",
              "\n",
              "      preferred_offer_types  \n",
              "0  Credit/Debit Card Offers  \n",
              "1  Credit/Debit Card Offers  \n",
              "2            Without Offers  \n",
              "3            Without Offers  \n",
              "4            Without Offers  \n",
              "5            Without Offers  \n",
              "6            Without Offers  \n",
              "7            Without Offers  \n",
              "8     Gift Vouchers/Coupons  \n",
              "9            Without Offers  "
            ]
          },
          "execution_count": 42,
          "metadata": {},
          "output_type": "execute_result"
        }
      ],
      "source": [
        "df"
      ]
    },
    {
      "cell_type": "code",
      "execution_count": 46,
      "metadata": {},
      "outputs": [
        {
          "data": {
            "text/html": [
              "<style>#sk-container-id-4 {color: black;background-color: white;}#sk-container-id-4 pre{padding: 0;}#sk-container-id-4 div.sk-toggleable {background-color: white;}#sk-container-id-4 label.sk-toggleable__label {cursor: pointer;display: block;width: 100%;margin-bottom: 0;padding: 0.3em;box-sizing: border-box;text-align: center;}#sk-container-id-4 label.sk-toggleable__label-arrow:before {content: \"▸\";float: left;margin-right: 0.25em;color: #696969;}#sk-container-id-4 label.sk-toggleable__label-arrow:hover:before {color: black;}#sk-container-id-4 div.sk-estimator:hover label.sk-toggleable__label-arrow:before {color: black;}#sk-container-id-4 div.sk-toggleable__content {max-height: 0;max-width: 0;overflow: hidden;text-align: left;background-color: #f0f8ff;}#sk-container-id-4 div.sk-toggleable__content pre {margin: 0.2em;color: black;border-radius: 0.25em;background-color: #f0f8ff;}#sk-container-id-4 input.sk-toggleable__control:checked~div.sk-toggleable__content {max-height: 200px;max-width: 100%;overflow: auto;}#sk-container-id-4 input.sk-toggleable__control:checked~label.sk-toggleable__label-arrow:before {content: \"▾\";}#sk-container-id-4 div.sk-estimator input.sk-toggleable__control:checked~label.sk-toggleable__label {background-color: #d4ebff;}#sk-container-id-4 div.sk-label input.sk-toggleable__control:checked~label.sk-toggleable__label {background-color: #d4ebff;}#sk-container-id-4 input.sk-hidden--visually {border: 0;clip: rect(1px 1px 1px 1px);clip: rect(1px, 1px, 1px, 1px);height: 1px;margin: -1px;overflow: hidden;padding: 0;position: absolute;width: 1px;}#sk-container-id-4 div.sk-estimator {font-family: monospace;background-color: #f0f8ff;border: 1px dotted black;border-radius: 0.25em;box-sizing: border-box;margin-bottom: 0.5em;}#sk-container-id-4 div.sk-estimator:hover {background-color: #d4ebff;}#sk-container-id-4 div.sk-parallel-item::after {content: \"\";width: 100%;border-bottom: 1px solid gray;flex-grow: 1;}#sk-container-id-4 div.sk-label:hover label.sk-toggleable__label {background-color: #d4ebff;}#sk-container-id-4 div.sk-serial::before {content: \"\";position: absolute;border-left: 1px solid gray;box-sizing: border-box;top: 0;bottom: 0;left: 50%;z-index: 0;}#sk-container-id-4 div.sk-serial {display: flex;flex-direction: column;align-items: center;background-color: white;padding-right: 0.2em;padding-left: 0.2em;position: relative;}#sk-container-id-4 div.sk-item {position: relative;z-index: 1;}#sk-container-id-4 div.sk-parallel {display: flex;align-items: stretch;justify-content: center;background-color: white;position: relative;}#sk-container-id-4 div.sk-item::before, #sk-container-id-4 div.sk-parallel-item::before {content: \"\";position: absolute;border-left: 1px solid gray;box-sizing: border-box;top: 0;bottom: 0;left: 50%;z-index: -1;}#sk-container-id-4 div.sk-parallel-item {display: flex;flex-direction: column;z-index: 1;position: relative;background-color: white;}#sk-container-id-4 div.sk-parallel-item:first-child::after {align-self: flex-end;width: 50%;}#sk-container-id-4 div.sk-parallel-item:last-child::after {align-self: flex-start;width: 50%;}#sk-container-id-4 div.sk-parallel-item:only-child::after {width: 0;}#sk-container-id-4 div.sk-dashed-wrapped {border: 1px dashed gray;margin: 0 0.4em 0.5em 0.4em;box-sizing: border-box;padding-bottom: 0.4em;background-color: white;}#sk-container-id-4 div.sk-label label {font-family: monospace;font-weight: bold;display: inline-block;line-height: 1.2em;}#sk-container-id-4 div.sk-label-container {text-align: center;}#sk-container-id-4 div.sk-container {/* jupyter's `normalize.less` sets `[hidden] { display: none; }` but bootstrap.min.css set `[hidden] { display: none !important; }` so we also need the `!important` here to be able to override the default hidden behavior on the sphinx rendered scikit-learn.org. See: https://github.com/scikit-learn/scikit-learn/issues/21755 */display: inline-block !important;position: relative;}#sk-container-id-4 div.sk-text-repr-fallback {display: none;}</style><div id=\"sk-container-id-4\" class=\"sk-top-container\"><div class=\"sk-text-repr-fallback\"><pre>ColumnTransformer(transformers=[(&#x27;encoder&#x27;,\n",
              "                                 Pipeline(steps=[(&#x27;encoder&#x27;,\n",
              "                                                  OrdinalEncoder())]),\n",
              "                                 [&#x27;joined_through_referral&#x27;,\n",
              "                                  &#x27;offer_application_preference&#x27;]),\n",
              "                                (&#x27;encoder2&#x27;,\n",
              "                                 Pipeline(steps=[(&#x27;encoder2&#x27;,\n",
              "                                                  OneHotEncoder())]),\n",
              "                                 [&#x27;membership_category&#x27;, &#x27;feedback&#x27;,\n",
              "                                  &#x27;preferred_offer_types&#x27;]),\n",
              "                                (&#x27;ouliers&#x27;,\n",
              "                                 Pipeline(steps=[(&#x27;outlier&#x27;, Winsorizer())]),\n",
              "                                 [&#x27;points_in_wallet&#x27;]),\n",
              "                                (&#x27;scaler&#x27;,\n",
              "                                 Pipeline(steps=[(&#x27;scaler&#x27;, StandardScaler())]),\n",
              "                                 [&#x27;points_in_wallet&#x27;, &#x27;avg_transaction_value&#x27;,\n",
              "                                  &#x27;avg_frequency_login_days&#x27;,\n",
              "                                  &#x27;avg_time_spent&#x27;])])</pre><b>In a Jupyter environment, please rerun this cell to show the HTML representation or trust the notebook. <br />On GitHub, the HTML representation is unable to render, please try loading this page with nbviewer.org.</b></div><div class=\"sk-container\" hidden><div class=\"sk-item sk-dashed-wrapped\"><div class=\"sk-label-container\"><div class=\"sk-label sk-toggleable\"><input class=\"sk-toggleable__control sk-hidden--visually\" id=\"sk-estimator-id-10\" type=\"checkbox\" ><label for=\"sk-estimator-id-10\" class=\"sk-toggleable__label sk-toggleable__label-arrow\">ColumnTransformer</label><div class=\"sk-toggleable__content\"><pre>ColumnTransformer(transformers=[(&#x27;encoder&#x27;,\n",
              "                                 Pipeline(steps=[(&#x27;encoder&#x27;,\n",
              "                                                  OrdinalEncoder())]),\n",
              "                                 [&#x27;joined_through_referral&#x27;,\n",
              "                                  &#x27;offer_application_preference&#x27;]),\n",
              "                                (&#x27;encoder2&#x27;,\n",
              "                                 Pipeline(steps=[(&#x27;encoder2&#x27;,\n",
              "                                                  OneHotEncoder())]),\n",
              "                                 [&#x27;membership_category&#x27;, &#x27;feedback&#x27;,\n",
              "                                  &#x27;preferred_offer_types&#x27;]),\n",
              "                                (&#x27;ouliers&#x27;,\n",
              "                                 Pipeline(steps=[(&#x27;outlier&#x27;, Winsorizer())]),\n",
              "                                 [&#x27;points_in_wallet&#x27;]),\n",
              "                                (&#x27;scaler&#x27;,\n",
              "                                 Pipeline(steps=[(&#x27;scaler&#x27;, StandardScaler())]),\n",
              "                                 [&#x27;points_in_wallet&#x27;, &#x27;avg_transaction_value&#x27;,\n",
              "                                  &#x27;avg_frequency_login_days&#x27;,\n",
              "                                  &#x27;avg_time_spent&#x27;])])</pre></div></div></div><div class=\"sk-parallel\"><div class=\"sk-parallel-item\"><div class=\"sk-item\"><div class=\"sk-label-container\"><div class=\"sk-label sk-toggleable\"><input class=\"sk-toggleable__control sk-hidden--visually\" id=\"sk-estimator-id-11\" type=\"checkbox\" ><label for=\"sk-estimator-id-11\" class=\"sk-toggleable__label sk-toggleable__label-arrow\">encoder</label><div class=\"sk-toggleable__content\"><pre>[&#x27;joined_through_referral&#x27;, &#x27;offer_application_preference&#x27;]</pre></div></div></div><div class=\"sk-serial\"><div class=\"sk-item\"><div class=\"sk-serial\"><div class=\"sk-item\"><div class=\"sk-estimator sk-toggleable\"><input class=\"sk-toggleable__control sk-hidden--visually\" id=\"sk-estimator-id-12\" type=\"checkbox\" ><label for=\"sk-estimator-id-12\" class=\"sk-toggleable__label sk-toggleable__label-arrow\">OrdinalEncoder</label><div class=\"sk-toggleable__content\"><pre>OrdinalEncoder()</pre></div></div></div></div></div></div></div></div><div class=\"sk-parallel-item\"><div class=\"sk-item\"><div class=\"sk-label-container\"><div class=\"sk-label sk-toggleable\"><input class=\"sk-toggleable__control sk-hidden--visually\" id=\"sk-estimator-id-13\" type=\"checkbox\" ><label for=\"sk-estimator-id-13\" class=\"sk-toggleable__label sk-toggleable__label-arrow\">encoder2</label><div class=\"sk-toggleable__content\"><pre>[&#x27;membership_category&#x27;, &#x27;feedback&#x27;, &#x27;preferred_offer_types&#x27;]</pre></div></div></div><div class=\"sk-serial\"><div class=\"sk-item\"><div class=\"sk-serial\"><div class=\"sk-item\"><div class=\"sk-estimator sk-toggleable\"><input class=\"sk-toggleable__control sk-hidden--visually\" id=\"sk-estimator-id-14\" type=\"checkbox\" ><label for=\"sk-estimator-id-14\" class=\"sk-toggleable__label sk-toggleable__label-arrow\">OneHotEncoder</label><div class=\"sk-toggleable__content\"><pre>OneHotEncoder()</pre></div></div></div></div></div></div></div></div><div class=\"sk-parallel-item\"><div class=\"sk-item\"><div class=\"sk-label-container\"><div class=\"sk-label sk-toggleable\"><input class=\"sk-toggleable__control sk-hidden--visually\" id=\"sk-estimator-id-15\" type=\"checkbox\" ><label for=\"sk-estimator-id-15\" class=\"sk-toggleable__label sk-toggleable__label-arrow\">ouliers</label><div class=\"sk-toggleable__content\"><pre>[&#x27;points_in_wallet&#x27;]</pre></div></div></div><div class=\"sk-serial\"><div class=\"sk-item\"><div class=\"sk-serial\"><div class=\"sk-item\"><div class=\"sk-estimator sk-toggleable\"><input class=\"sk-toggleable__control sk-hidden--visually\" id=\"sk-estimator-id-16\" type=\"checkbox\" ><label for=\"sk-estimator-id-16\" class=\"sk-toggleable__label sk-toggleable__label-arrow\">Winsorizer</label><div class=\"sk-toggleable__content\"><pre>Winsorizer()</pre></div></div></div></div></div></div></div></div><div class=\"sk-parallel-item\"><div class=\"sk-item\"><div class=\"sk-label-container\"><div class=\"sk-label sk-toggleable\"><input class=\"sk-toggleable__control sk-hidden--visually\" id=\"sk-estimator-id-17\" type=\"checkbox\" ><label for=\"sk-estimator-id-17\" class=\"sk-toggleable__label sk-toggleable__label-arrow\">scaler</label><div class=\"sk-toggleable__content\"><pre>[&#x27;points_in_wallet&#x27;, &#x27;avg_transaction_value&#x27;, &#x27;avg_frequency_login_days&#x27;, &#x27;avg_time_spent&#x27;]</pre></div></div></div><div class=\"sk-serial\"><div class=\"sk-item\"><div class=\"sk-serial\"><div class=\"sk-item\"><div class=\"sk-estimator sk-toggleable\"><input class=\"sk-toggleable__control sk-hidden--visually\" id=\"sk-estimator-id-18\" type=\"checkbox\" ><label for=\"sk-estimator-id-18\" class=\"sk-toggleable__label sk-toggleable__label-arrow\">StandardScaler</label><div class=\"sk-toggleable__content\"><pre>StandardScaler()</pre></div></div></div></div></div></div></div></div></div></div></div></div>"
            ],
            "text/plain": [
              "ColumnTransformer(transformers=[('encoder',\n",
              "                                 Pipeline(steps=[('encoder',\n",
              "                                                  OrdinalEncoder())]),\n",
              "                                 ['joined_through_referral',\n",
              "                                  'offer_application_preference']),\n",
              "                                ('encoder2',\n",
              "                                 Pipeline(steps=[('encoder2',\n",
              "                                                  OneHotEncoder())]),\n",
              "                                 ['membership_category', 'feedback',\n",
              "                                  'preferred_offer_types']),\n",
              "                                ('ouliers',\n",
              "                                 Pipeline(steps=[('outlier', Winsorizer())]),\n",
              "                                 ['points_in_wallet']),\n",
              "                                ('scaler',\n",
              "                                 Pipeline(steps=[('scaler', StandardScaler())]),\n",
              "                                 ['points_in_wallet', 'avg_transaction_value',\n",
              "                                  'avg_frequency_login_days',\n",
              "                                  'avg_time_spent'])])"
            ]
          },
          "execution_count": 46,
          "metadata": {},
          "output_type": "execute_result"
        }
      ],
      "source": [
        "preprocessor"
      ]
    },
    {
      "cell_type": "code",
      "execution_count": 47,
      "metadata": {
        "id": "i3zQtGkToOW-"
      },
      "outputs": [],
      "source": [
        "dftrans = preprocessor.transform(df)"
      ]
    },
    {
      "cell_type": "markdown",
      "metadata": {
        "id": "Lgb_MQuvoOW-"
      },
      "source": [
        "# MODEL"
      ]
    },
    {
      "cell_type": "code",
      "execution_count": 48,
      "metadata": {
        "colab": {
          "base_uri": "https://localhost:8080/"
        },
        "id": "FaSHm803ptcB",
        "outputId": "ced784f0-bccd-4595-c8fd-48d202a64e32"
      },
      "outputs": [
        {
          "name": "stdout",
          "output_type": "stream",
          "text": [
            "1/1 [==============================] - 0s 12ms/step\n"
          ]
        },
        {
          "data": {
            "text/plain": [
              "array([[0.94412297],\n",
              "       [0.9336246 ],\n",
              "       [0.07040107],\n",
              "       [0.07997337],\n",
              "       [0.9388418 ],\n",
              "       [0.0573436 ],\n",
              "       [0.943936  ],\n",
              "       [0.39814177],\n",
              "       [0.9473008 ],\n",
              "       [0.078189  ]], dtype=float32)"
            ]
          },
          "execution_count": 48,
          "metadata": {},
          "output_type": "execute_result"
        }
      ],
      "source": [
        "y_pred_inf = model.predict(dftrans)\n",
        "y_pred_inf"
      ]
    }
  ],
  "metadata": {
    "accelerator": "GPU",
    "colab": {
      "provenance": []
    },
    "gpuClass": "standard",
    "kernelspec": {
      "display_name": "tensorflow",
      "language": "python",
      "name": "python3"
    },
    "language_info": {
      "codemirror_mode": {
        "name": "ipython",
        "version": 3
      },
      "file_extension": ".py",
      "mimetype": "text/x-python",
      "name": "python",
      "nbconvert_exporter": "python",
      "pygments_lexer": "ipython3",
      "version": "3.10.9"
    },
    "orig_nbformat": 4,
    "vscode": {
      "interpreter": {
        "hash": "73a20ee111e202b5885bf4967c631ad33e4dd2fc605a280f260d1da0f02a6410"
      }
    }
  },
  "nbformat": 4,
  "nbformat_minor": 0
}
